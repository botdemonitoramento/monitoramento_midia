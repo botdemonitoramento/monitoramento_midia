{
 "cells": [
  {
   "cell_type": "code",
   "execution_count": 64,
   "id": "bc4c4c7d",
   "metadata": {},
   "outputs": [],
   "source": [
    "#Bibliotecas\n",
    "import pandas as pd\n",
    "from selenium import webdriver\n",
    "from selenium.webdriver.chrome.service import Service \n",
    "from selenium.webdriver.common.by import By\n",
    "from selenium.webdriver.common.keys import Keys\n",
    "from selenium.webdriver.support.ui import WebDriverWait\n",
    "from selenium.webdriver.support import expected_conditions as EC\n",
    "from datetime import datetime\n",
    "import smtplib\n",
    "from email.message import EmailMessage\n",
    "from datetime import date, timedelta\n",
    "\n",
    "#Função que encontra e retorna informações sobre a palavra chave.\n",
    "palavra_de_busca = 'premio'\n",
    "\n",
    "service = Service()\n",
    "options = webdriver.ChromeOptions()\n",
    "# Modo headless (não abre o navegador na tela)\n",
    "options.add_argument(\"--headless\")\n",
    "options.add_argument(\"--disable-gpu\") \n",
    "\n",
    "driver = webdriver.Chrome(service=service, options=options)\n",
    "\n",
    "url = \"https://www.gov.br/cvm/pt-br/search?origem=form&SearchableText=\"+palavra_de_busca\n",
    "\n",
    "driver.get(url)\n",
    "# Cria o objeto de espera\n",
    "wait = WebDriverWait(driver, 10)\n",
    "\n",
    "# Espera até que o botão esteja clicável\n",
    "botao_rejeitar = wait.until(EC.element_to_be_clickable((By.XPATH, \"//button[contains(@class, 'reject-all') and @aria-label='Rejeitar cookies']\")))\n",
    "botao_rejeitar.click()\n",
    "\n",
    "\n",
    "noticias_links = wait.until(EC.presence_of_all_elements_located((By.TAG_NAME, \"a\")))\n",
    "datas = driver.find_elements(By.CLASS_NAME, \"data\")\n",
    "\n",
    "titulo = noticias_links[274].text\n",
    "link = noticias_links[274].get_attribute(\"href\")\n",
    "data_str = datas[0].text.replace('-','').strip()\n",
    "data = datetime.strptime(data_str, '%d/%m/%Y').date()\n",
    "\n",
    "\n",
    "\n",
    "df = {\"Título\": titulo,\n",
    "    'Link': link,\n",
    "    'Data': data}\n",
    "    \n",
    "    \n",
    "\n",
    "\n",
    "    "
   ]
  },
  {
   "cell_type": "code",
   "execution_count": 65,
   "id": "3989c262",
   "metadata": {},
   "outputs": [
    {
     "data": {
      "text/plain": [
       "{'Título': 'Comitê de Educação da CVM divulga vencedores do 18º Prêmio Imprensa',\n",
       " 'Link': 'https://www.gov.br/cvm/pt-br/assuntos/noticias/2025/comite-de-educacao-da-cvm-divulga-vencedores-do-18o-premio-imprensa',\n",
       " 'Data': datetime.date(2025, 5, 29)}"
      ]
     },
     "execution_count": 65,
     "metadata": {},
     "output_type": "execute_result"
    }
   ],
   "source": [
    "df"
   ]
  },
  {
   "cell_type": "code",
   "execution_count": null,
   "id": "ac88b630",
   "metadata": {},
   "outputs": [],
   "source": [
    "#teste\n",
    "\n",
    "texto = LocalizaNews(palavra_de_busca)"
   ]
  },
  {
   "cell_type": "code",
   "execution_count": 53,
   "id": "fdfdf2b8",
   "metadata": {},
   "outputs": [
    {
     "data": {
      "text/plain": [
       "{'Título': 'CVM aceita proposta global de Termo de Compromisso com Tivio Capital Distribuidora de Títulos e Valores Mobiliários S.A. e diretores responsáveis',\n",
       " 'Link': 'https://www.gov.br/cvm/pt-br/assuntos/noticias/2025/cvm-aceita-proposta-global-de-termo-de-compromisso-com-tivio-capital-distribuidora-de-titulos-e-valores-mobiliarios-s-a-e-diretores-responsaveis',\n",
       " 'Data': datetime.date(2025, 5, 14)}"
      ]
     },
     "execution_count": 53,
     "metadata": {},
     "output_type": "execute_result"
    }
   ],
   "source": [
    "texto"
   ]
  },
  {
   "cell_type": "code",
   "execution_count": 45,
   "id": "85f30aaa",
   "metadata": {},
   "outputs": [
    {
     "data": {
      "text/plain": [
       "datetime.date(2025, 5, 14)"
      ]
     },
     "execution_count": 45,
     "metadata": {},
     "output_type": "execute_result"
    }
   ],
   "source": [
    "texto_data = texto['Data']\n",
    "texto_data"
   ]
  },
  {
   "cell_type": "code",
   "execution_count": null,
   "id": "8414e33c",
   "metadata": {},
   "outputs": [],
   "source": [
    "\n",
    "def EnviaEmail(palavra_de_busca, texto):\n",
    "    #escreve email\n",
    "    email = 'botdemonitoramento@gmail.com'\n",
    "    senha_do_email = 'iapeijyauxvimtjo'\n",
    "    msg = EmailMessage()\n",
    "    msg['Subject'] = 'Teste de monitoramento notícias CVM'\n",
    "    msg['From'] = 'botdemonitoramento@gmail.com'\n",
    "    msg['To'] = 'arthur@ceres.org.br'\n",
    "    msg.set_content(f\"A gestora{palavra_de_busca} apareceu no portal de notícias da CVM.\\n {texto}\")\n",
    "\n",
    "    #enviar email\n",
    "    with smtplib.SMTP_SSL('smtp.gmail.com', 465) as smtp:\n",
    "        smtp.login(email, senha_do_email)\n",
    "        smtp.send_message(msg)\n"
   ]
  },
  {
   "cell_type": "code",
   "execution_count": null,
   "id": "bffe488d",
   "metadata": {},
   "outputs": [],
   "source": [
    "qtd_dias = timedelta(days=1)\n",
    "if texto_data == date.today()-qtd_dias:\n",
    "    EnviaEmail(palavra_de_busca, texto)"
   ]
  }
 ],
 "metadata": {
  "kernelspec": {
   "display_name": "venv",
   "language": "python",
   "name": "python3"
  },
  "language_info": {
   "codemirror_mode": {
    "name": "ipython",
    "version": 3
   },
   "file_extension": ".py",
   "mimetype": "text/x-python",
   "name": "python",
   "nbconvert_exporter": "python",
   "pygments_lexer": "ipython3",
   "version": "3.13.3"
  }
 },
 "nbformat": 4,
 "nbformat_minor": 5
}
