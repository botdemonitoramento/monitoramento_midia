{
 "cells": [
  {
   "cell_type": "code",
   "execution_count": 31,
   "id": "aa2f3348",
   "metadata": {},
   "outputs": [],
   "source": [
    "decisoes_colegiado = 'https://conteudo.cvm.gov.br/feed/decisoes.xml'\n",
    "\n"
   ]
  },
  {
   "cell_type": "code",
   "execution_count": 6,
   "id": "112e6c3c",
   "metadata": {},
   "outputs": [],
   "source": [
    "import xmltodict\n",
    "import feedparser"
   ]
  },
  {
   "cell_type": "code",
   "execution_count": null,
   "id": "dc8acddc",
   "metadata": {},
   "outputs": [],
   "source": [
    "gnews = feedparser.parse(rss)\n"
   ]
  },
  {
   "cell_type": "code",
   "execution_count": 35,
   "id": "0a110be3",
   "metadata": {},
   "outputs": [
    {
     "name": "stdout",
     "output_type": "stream",
     "text": [
      "ATA DA REUNIÃO DO COLEGIADO Nº 17 DE 20.05.2025\n",
      "http://www.cvm.gov.br/decisoes/2025/20250520_R1.html\n",
      "ATA DA REUNIÃO DO COLEGIADO DE REGULAÇÃO Nº 2 DE 26.03.2025\n",
      "http://www.cvm.gov.br/decisoes/2025/20250326_R2.html\n",
      "ATA DA REUNIÃO DO COLEGIADO DE REGULAÇÃO Nº 8 DE 06.06.2025\n",
      "http://www.cvm.gov.br/decisoes/2025/20250606_R1.html\n",
      "ATA DA REUNIÃO DO COLEGIADO DE REGULAÇÃO Nº 7 DE 28.05.2025\n",
      "http://www.cvm.gov.br/decisoes/2025/20250528_R1.html\n",
      "ATA DA REUNIÃO DO COLEGIADO DE REGULAÇÃO Nº 6 DE 21.05.2025\n",
      "http://www.cvm.gov.br/decisoes/2025/20250521_R1.html\n",
      "ATA DA REUNIÃO DO COLEGIADO Nº 18 DE 27.05.2025\n",
      "http://www.cvm.gov.br/decisoes/2025/20250527_R1.html\n",
      "EXTRATO DE ATA DA REUNIÃO DO COLEGIADO Nº 22 DE 24.06.2025\n",
      "http://www.cvm.gov.br/decisoes/2025/20250624_R1.html\n",
      "ATA DA REUNIÃO DO COLEGIADO DE REGULAÇÃO Nº 5 DE 14.05.2025\n",
      "http://www.cvm.gov.br/decisoes/2025/20250514_R1.html\n",
      "ATA DA REUNIÃO DO COLEGIADO DE REGULAÇÃO Nº 4 DE 30.04.2025\n",
      "http://www.cvm.gov.br/decisoes/2025/20250430_R1.html\n",
      "ATA DA REUNIÃO DO COLEGIADO DE REGULAÇÃO Nº 3 DE 02.04.2025\n",
      "http://www.cvm.gov.br/decisoes/2025/20250402_R1.html\n"
     ]
    }
   ],
   "source": [
    "\n",
    "feed = feedparser.parse(decisoes_colegiado)\n",
    "\n",
    "\n",
    "for entry in feed.entries:\n",
    "    print(entry.title)\n",
    "    print(entry.link)"
   ]
  }
 ],
 "metadata": {
  "kernelspec": {
   "display_name": "venv",
   "language": "python",
   "name": "python3"
  },
  "language_info": {
   "codemirror_mode": {
    "name": "ipython",
    "version": 3
   },
   "file_extension": ".py",
   "mimetype": "text/x-python",
   "name": "python",
   "nbconvert_exporter": "python",
   "pygments_lexer": "ipython3",
   "version": "3.13.5"
  }
 },
 "nbformat": 4,
 "nbformat_minor": 5
}
